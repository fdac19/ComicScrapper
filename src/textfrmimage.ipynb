{
 "cells": [
  {
   "cell_type": "code",
   "execution_count": 7,
   "metadata": {},
   "outputs": [],
   "source": [
    "#pip install --user pytesseract\n",
    "#sudo apt install tesseract-ocr\n",
    "#pip install textblob\n",
    "import pytesseract\n",
    "import glob\n",
    "import os\n",
    "from PIL import Image\n",
    "from textblob import TextBlob\n",
    "import json"
   ]
  },
  {
   "cell_type": "code",
   "execution_count": 8,
   "metadata": {},
   "outputs": [
    {
     "name": "stdout",
     "output_type": "stream",
     "text": [
      "{\"data/supergirl-2016 /35/10.jpg\": \"Neutral\", \"data/supergirl-2016 /35/21.jpg\": \"Neutral\", \"data/supergirl-2016 /35/01.jpg\": \"Neutral\", \"data/supergirl-2016 /35/02.jpg\": \"Neutral\", \"data/supergirl-2016 /35/03.jpg\": \"Neutral\", \"data/supergirl-2016 /35/09.jpg\": \"Neutral\", \"data/supergirl-2016 /35/08.jpg\": \"Neutral\", \"data/supergirl-2016 /35/07.jpg\": \"Neutral\", \"data/supergirl-2016 /35/06.jpg\": \"Neutral\", \"data/supergirl-2016 /35/05.jpg\": \"Neutral\", \"data/supergirl-2016 /35/04.jpg\": \"Neutral\", \"data/supergirl-2016 /35/20.jpg\": \"Positive\", \"data/supergirl-2016 /35/19.jpg\": \"Positive\", \"data/supergirl-2016 /35/18.jpg\": \"Neutral\", \"data/supergirl-2016 /35/17.jpg\": \"Neutral\", \"data/supergirl-2016 /35/16.jpg\": \"Neutral\", \"data/supergirl-2016 /35/15.jpg\": \"Neutral\", \"data/supergirl-2016 /35/14.jpg\": \"Neutral\", \"data/supergirl-2016 /35/13.jpg\": \"Neutral\", \"data/supergirl-2016 /35/12.jpg\": \"Positive\", \"data/supergirl-2016 /35/11.jpg\": \"Positive\", \"data/supergirl-2016 /36/01.jpg\": \"Neutral\", \"data/supergirl-2016 /36/02.jpg\": \"Neutral\", \"data/supergirl-2016 /36/03.jpg\": \"Neutral\", \"data/supergirl-2016 /36/04.jpg\": \"Neutral\", \"data/supergirl-2016 /36/05.jpg\": \"Neutral\", \"data/supergirl-2016 /36/06.jpg\": \"Neutral\", \"data/supergirl-2016 /36/07.jpg\": \"Neutral\", \"data/supergirl-2016 /36/08.jpg\": \"Positive\", \"data/supergirl-2016 /36/09.jpg\": \"Negative\", \"data/supergirl-2016 /36/10.jpg\": \"Neutral\", \"data/supergirl-2016 /36/11.jpg\": \"Neutral\", \"data/supergirl-2016 /36/12.jpg\": \"Neutral\", \"data/supergirl-2016 /36/13.jpg\": \"Neutral\", \"data/supergirl-2016 /36/14.jpg\": \"Neutral\", \"data/supergirl-2016 /36/15.jpg\": \"Neutral\", \"data/supergirl-2016 /36/16.jpg\": \"Neutral\", \"data/supergirl-2016 /36/17.jpg\": \"Positive\", \"data/supergirl-2016 /36/18.jpg\": \"Neutral\", \"data/supergirl-2016 /36/19.jpg\": \"Neutral\", \"data/supergirl-2016 /36/20.jpg\": \"Neutral\", \"data/supergirl-2016 /36/21.jpg\": \"Neutral\", \"data/supergirl-2016 /36/22.jpg\": \"Neutral\", \"data/supergirl-2016 /36/23.jpg\": \"Neutral\"}\n"
     ]
    }
   ],
   "source": [
    "img_output = []\n",
    "odict = {}\n",
    "#extracts the text for all .jpg images in the images folder\n",
    "for image in glob.glob('**/*.jpg',recursive=True):\n",
    "    img = Image.open(image)\n",
    "    #uses tessreact to extract the text from the image\n",
    "    text = pytesseract.image_to_string(img)\n",
    "    #appends each text output to the array\n",
    "    img_output.append(text.strip())\n",
    "    for x in range(len(img_output)):\n",
    "        analysis = TextBlob(img_output[x])\n",
    "        sentiment = find_Sentiment(analysis.sentiment.polarity)\n",
    "        #absolute path\n",
    "        imagepath = os.path.abspath(image)\n",
    "        #include the path to images to shorten it\n",
    "        imgpath = os.path.relpath(imagepath,'/home/smanikon/nltk_data/')\n",
    "        odict.update({imgpath:sentiment})\n",
    "        \n",
    "#JSON format        \n",
    "print(json.dumps(odict))"
   ]
  },
  {
   "cell_type": "code",
   "execution_count": 9,
   "metadata": {},
   "outputs": [],
   "source": [
    "def find_Sentiment(val):\n",
    "    if val<=0.25 and val>=-0.25:\n",
    "           return 'Neutral'\n",
    "    elif val>0.25:\n",
    "            return 'Positive'\n",
    "    else:\n",
    "            return 'Negative'\n"
   ]
  },
  {
   "cell_type": "code",
   "execution_count": null,
   "metadata": {},
   "outputs": [],
   "source": []
  }
 ],
 "metadata": {
  "kernelspec": {
   "display_name": "Python 3",
   "language": "python",
   "name": "python3"
  },
  "language_info": {
   "codemirror_mode": {
    "name": "ipython",
    "version": 3
   },
   "file_extension": ".py",
   "mimetype": "text/x-python",
   "name": "python",
   "nbconvert_exporter": "python",
   "pygments_lexer": "ipython3",
   "version": "3.6.7"
  }
 },
 "nbformat": 4,
 "nbformat_minor": 2
}
