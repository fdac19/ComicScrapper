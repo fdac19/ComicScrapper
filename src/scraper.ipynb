{
 "cells": [
  {
   "cell_type": "code",
   "execution_count": 154,
   "metadata": {},
   "outputs": [],
   "source": [
    "import requests\n",
    "import urllib.request\n",
    "import time\n",
    "from bs4 import BeautifulSoup\n",
    "import os\n",
    "import random"
   ]
  },
  {
   "cell_type": "code",
   "execution_count": 155,
   "metadata": {},
   "outputs": [],
   "source": [
    "def save_image(image_url):\n",
    "    names = image_url.split(\"/\")[5:]\n",
    "    series = names[0] # mkdir for series\n",
    "    chapter = names[2] #mkdir for chapter/comic\n",
    "    page = names[3] # Each image will be XXX.jpg\n",
    "    \n",
    "    directory_path = series + \"/\" + chapter\n",
    "    file_path = directory_path + \"/\" + page\n",
    "    \n",
    "    os.makedirs(series + \"/\" + chapter, exist_ok=True)  # succeeds even if directory exists.\n",
    "    \n",
    "    with open(file_path, 'wb') as handle:\n",
    "            response = requests.get(image_url, stream=True)\n",
    "            if not response.ok:\n",
    "                print(response)\n",
    "                \n",
    "            for block in response.iter_content(1024):\n",
    "                if not block:\n",
    "                    break\n",
    "                handle.write(block)\n",
    "            return file_path"
   ]
  },
  {
   "cell_type": "code",
   "execution_count": 157,
   "metadata": {},
   "outputs": [
    {
     "name": "stdout",
     "output_type": "stream",
     "text": [
      "Enter Comic Series URL to grab: https://readcomicsonline.ru/comic/harley-quinn-harley-loves-joker-2018\n"
     ]
    }
   ],
   "source": [
    "url = input(\"Enter Comic Series URL to grab: \") # e.g. https://readcomicsonline.ru/comic/batman-2016\n",
    "response = requests.get(url)"
   ]
  },
  {
   "cell_type": "code",
   "execution_count": 158,
   "metadata": {},
   "outputs": [],
   "source": [
    "soup = BeautifulSoup(response.text, \"html.parser\")"
   ]
  },
  {
   "cell_type": "code",
   "execution_count": 159,
   "metadata": {},
   "outputs": [],
   "source": [
    "links = []\n",
    "h5s = soup.find_all(\"h5\", class_=\"chapter-title-rtl\")\n",
    "for h5 in h5s:\n",
    "    link = h5.find(\"a\", href=True).get(\"href\")\n",
    "    links.append(link)"
   ]
  },
  {
   "cell_type": "code",
   "execution_count": 160,
   "metadata": {},
   "outputs": [
    {
     "name": "stdout",
     "output_type": "stream",
     "text": [
      "['https://readcomicsonline.ru/comic/harley-quinn-harley-loves-joker-2018/2', 'https://readcomicsonline.ru/comic/harley-quinn-harley-loves-joker-2018/1']\n"
     ]
    }
   ],
   "source": [
    "print(links[:10])"
   ]
  },
  {
   "cell_type": "code",
   "execution_count": 161,
   "metadata": {},
   "outputs": [
    {
     "name": "stdout",
     "output_type": "stream",
     "text": [
      "https://readcomicsonline.ru/comic/harley-quinn-harley-loves-joker-2018/2\n",
      "Saved harley-quinn-harley-loves-joker-2018/2/01.jpg\n",
      "Saved harley-quinn-harley-loves-joker-2018/2/02.jpg\n",
      "Saved harley-quinn-harley-loves-joker-2018/2/03.jpg\n",
      "Saved harley-quinn-harley-loves-joker-2018/2/04.jpg\n",
      "Saved harley-quinn-harley-loves-joker-2018/2/05.jpg\n",
      "Saved harley-quinn-harley-loves-joker-2018/2/06.jpg\n",
      "Saved harley-quinn-harley-loves-joker-2018/2/07.jpg\n",
      "Saved harley-quinn-harley-loves-joker-2018/2/08.jpg\n",
      "Saved harley-quinn-harley-loves-joker-2018/2/09.jpg\n"
     ]
    },
    {
     "ename": "KeyboardInterrupt",
     "evalue": "",
     "output_type": "error",
     "traceback": [
      "\u001b[0;31m---------------------------------------------------------------------------\u001b[0m",
      "\u001b[0;31mKeyboardInterrupt\u001b[0m                         Traceback (most recent call last)",
      "\u001b[0;32m<ipython-input-161-21b0714759c5>\u001b[0m in \u001b[0;36m<module>\u001b[0;34m\u001b[0m\n\u001b[1;32m      9\u001b[0m             \u001b[0mimage_name\u001b[0m \u001b[0;34m=\u001b[0m \u001b[0msave_image\u001b[0m\u001b[0;34m(\u001b[0m\u001b[0mimgUrl\u001b[0m\u001b[0;34m)\u001b[0m\u001b[0;34m\u001b[0m\u001b[0m\n\u001b[1;32m     10\u001b[0m             \u001b[0mprint\u001b[0m\u001b[0;34m(\u001b[0m\u001b[0;34m\"Saved\"\u001b[0m\u001b[0;34m,\u001b[0m \u001b[0mimage_name\u001b[0m\u001b[0;34m)\u001b[0m\u001b[0;34m\u001b[0m\u001b[0m\n\u001b[0;32m---> 11\u001b[0;31m             \u001b[0mtime\u001b[0m\u001b[0;34m.\u001b[0m\u001b[0msleep\u001b[0m\u001b[0;34m(\u001b[0m\u001b[0mrandom\u001b[0m\u001b[0;34m.\u001b[0m\u001b[0muniform\u001b[0m\u001b[0;34m(\u001b[0m\u001b[0;36m2\u001b[0m\u001b[0;34m,\u001b[0m \u001b[0;36m4\u001b[0m\u001b[0;34m)\u001b[0m\u001b[0;34m)\u001b[0m \u001b[0;31m# Keep to avoid IP getting blacklisted\u001b[0m\u001b[0;34m\u001b[0m\u001b[0m\n\u001b[0m\u001b[1;32m     12\u001b[0m         \u001b[0mtime\u001b[0m\u001b[0;34m.\u001b[0m\u001b[0msleep\u001b[0m\u001b[0;34m(\u001b[0m\u001b[0mrandom\u001b[0m\u001b[0;34m.\u001b[0m\u001b[0muniform\u001b[0m\u001b[0;34m(\u001b[0m\u001b[0;36m3\u001b[0m\u001b[0;34m,\u001b[0m \u001b[0;36m5\u001b[0m\u001b[0;34m)\u001b[0m\u001b[0;34m)\u001b[0m \u001b[0;31m# Keep to avoid IP getting blacklisted\u001b[0m\u001b[0;34m\u001b[0m\u001b[0m\n\u001b[1;32m     13\u001b[0m     \u001b[0;32melse\u001b[0m\u001b[0;34m:\u001b[0m\u001b[0;34m\u001b[0m\u001b[0m\n",
      "\u001b[0;31mKeyboardInterrupt\u001b[0m: "
     ]
    }
   ],
   "source": [
    "for idx, chapter_link in enumerate(links):\n",
    "    if(idx >= 0 and idx <= 2):\n",
    "        print(chapter_link)\n",
    "        comic = requests.get(chapter_link)\n",
    "        comic_soup = BeautifulSoup(comic.text, \"html.parser\")\n",
    "        page_images = comic_soup.find(\"div\", id=\"all\").find_all(\"img\")\n",
    "        for idx, p_image in enumerate(page_images):\n",
    "            imgUrl = (p_image.get(\"data-src\")).strip()\n",
    "            image_name = save_image(imgUrl)\n",
    "            print(\"Saved\", image_name)\n",
    "            time.sleep(random.uniform(2, 4)) # Keep to avoid IP getting blacklisted\n",
    "        time.sleep(random.uniform(3, 5)) # Keep to avoid IP getting blacklisted\n",
    "    else:\n",
    "        break\n",
    "        \n",
    "print(\"Done\")"
   ]
  },
  {
   "cell_type": "code",
   "execution_count": null,
   "metadata": {},
   "outputs": [],
   "source": []
  }
 ],
 "metadata": {
  "kernelspec": {
   "display_name": "Python 3",
   "language": "python",
   "name": "python3"
  },
  "language_info": {
   "codemirror_mode": {
    "name": "ipython",
    "version": 3
   },
   "file_extension": ".py",
   "mimetype": "text/x-python",
   "name": "python",
   "nbconvert_exporter": "python",
   "pygments_lexer": "ipython3",
   "version": "3.7.0"
  }
 },
 "nbformat": 4,
 "nbformat_minor": 2
}
